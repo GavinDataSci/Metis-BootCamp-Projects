{
 "metadata": {
  "name": "",
  "signature": "sha256:abcba7d96cc76311e7b4ecf15f9fe6f797e4b5c670a22f4604ccd2289d079ce8"
 },
 "nbformat": 3,
 "nbformat_minor": 0,
 "worksheets": [
  {
   "cells": [
    {
     "cell_type": "heading",
     "level": 1,
     "metadata": {},
     "source": [
      "Tweet Sentiment Analyzer"
     ]
    },
    {
     "cell_type": "code",
     "collapsed": false,
     "input": [
      "%matplotlib inline\n",
      "\n",
      "import pandas as pd\n",
      "import numpy as np\n",
      "\n",
      "from datetime import datetime\n",
      "import matplotlib.pyplot as plt\n",
      "\n",
      "import seaborn as sns\n",
      "import nltk\n",
      "from nltk.corpus import stopwords\n",
      "\n",
      "from textblob import TextBlob, Word, Blobber\n",
      "from textblob.classifiers import NaiveBayesClassifier\n"
     ],
     "language": "python",
     "metadata": {},
     "outputs": [],
     "prompt_number": 216
    },
    {
     "cell_type": "heading",
     "level": 4,
     "metadata": {},
     "source": [
      "Exported all tweets to a csv file"
     ]
    },
    {
     "cell_type": "code",
     "collapsed": false,
     "input": [
      "import pandas as pd\n",
      "from pandas.tseries.resample import TimeGrouper\n",
      "from pandas.tseries.offsets import DateOffset\n",
      "\n",
      "df = pd.read_csv('js3.csv')\n",
      "df['created_at'] = pd.to_datetime(pd.Series(df['created_at']))\n",
      "df.set_index('created_at', drop=False, inplace=True)\n",
      "df.index = df.index - DateOffset(hours = 12)\n",
      "df.head()"
     ],
     "language": "python",
     "metadata": {},
     "outputs": [
      {
       "html": [
        "<div style=\"max-height:1000px;max-width:1500px;overflow:auto;\">\n",
        "<table border=\"1\" class=\"dataframe\">\n",
        "  <thead>\n",
        "    <tr style=\"text-align: right;\">\n",
        "      <th></th>\n",
        "      <th>_id</th>\n",
        "      <th>created_at</th>\n",
        "      <th>follower</th>\n",
        "      <th>geo</th>\n",
        "      <th>replyto</th>\n",
        "      <th>source</th>\n",
        "      <th>text</th>\n",
        "      <th>user</th>\n",
        "      <th>userfriends</th>\n",
        "    </tr>\n",
        "  </thead>\n",
        "  <tbody>\n",
        "    <tr>\n",
        "      <th>2015-03-21 05:15:55</th>\n",
        "      <td> 550da74b3520d611dba26d76</td>\n",
        "      <td>2015-03-21 17:15:55</td>\n",
        "      <td> 6416</td>\n",
        "      <td> NaN</td>\n",
        "      <td> NaN</td>\n",
        "      <td>             Google</td>\n",
        "      <td> I liked a @YouTube video http://t.co/KR50U3hY3...</td>\n",
        "      <td>      HagaiElAd</td>\n",
        "      <td> 1011</td>\n",
        "    </tr>\n",
        "    <tr>\n",
        "      <th>2015-03-21 05:16:08</th>\n",
        "      <td> 550da7583520d611dba26d77</td>\n",
        "      <td>2015-03-21 17:16:08</td>\n",
        "      <td>  259</td>\n",
        "      <td> NaN</td>\n",
        "      <td> NaN</td>\n",
        "      <td>      TweetAdder v4</td>\n",
        "      <td> RT @allhiphopcom: Jon Stewart Destroys Fox New...</td>\n",
        "      <td>    Greatmuzic1</td>\n",
        "      <td>  218</td>\n",
        "    </tr>\n",
        "    <tr>\n",
        "      <th>2015-03-21 05:18:34</th>\n",
        "      <td> 550da7ea3520d611dba26d78</td>\n",
        "      <td>2015-03-21 17:18:34</td>\n",
        "      <td>    3</td>\n",
        "      <td> NaN</td>\n",
        "      <td> NaN</td>\n",
        "      <td> Twitter Web Client</td>\n",
        "      <td> The longer Jon Stewart and Bill O'Reilly stay ...</td>\n",
        "      <td>     frank_cell</td>\n",
        "      <td>   28</td>\n",
        "    </tr>\n",
        "    <tr>\n",
        "      <th>2015-03-21 05:18:42</th>\n",
        "      <td> 550da7f23520d611dba26d79</td>\n",
        "      <td>2015-03-21 17:18:42</td>\n",
        "      <td> 1297</td>\n",
        "      <td> NaN</td>\n",
        "      <td> NaN</td>\n",
        "      <td>          Hootsuite</td>\n",
        "      <td> Addicting Info \ufffd Jon Stewart Buries Fox News F...</td>\n",
        "      <td>  ThomasRWatson</td>\n",
        "      <td> 2002</td>\n",
        "    </tr>\n",
        "    <tr>\n",
        "      <th>2015-03-21 05:18:42</th>\n",
        "      <td> 550da7f23520d611dba26d7a</td>\n",
        "      <td>2015-03-21 17:18:42</td>\n",
        "      <td>  222</td>\n",
        "      <td> NaN</td>\n",
        "      <td> NaN</td>\n",
        "      <td>          Hootsuite</td>\n",
        "      <td> Addicting Info \ufffd Jon Stewart Buries Fox News F...</td>\n",
        "      <td> ThomasRWatson1</td>\n",
        "      <td>  490</td>\n",
        "    </tr>\n",
        "  </tbody>\n",
        "</table>\n",
        "</div>"
       ],
       "metadata": {},
       "output_type": "pyout",
       "prompt_number": 218,
       "text": [
        "                                          _id          created_at  follower  \\\n",
        "2015-03-21 05:15:55  550da74b3520d611dba26d76 2015-03-21 17:15:55      6416   \n",
        "2015-03-21 05:16:08  550da7583520d611dba26d77 2015-03-21 17:16:08       259   \n",
        "2015-03-21 05:18:34  550da7ea3520d611dba26d78 2015-03-21 17:18:34         3   \n",
        "2015-03-21 05:18:42  550da7f23520d611dba26d79 2015-03-21 17:18:42      1297   \n",
        "2015-03-21 05:18:42  550da7f23520d611dba26d7a 2015-03-21 17:18:42       222   \n",
        "\n",
        "                     geo replyto              source  \\\n",
        "2015-03-21 05:15:55  NaN     NaN              Google   \n",
        "2015-03-21 05:16:08  NaN     NaN       TweetAdder v4   \n",
        "2015-03-21 05:18:34  NaN     NaN  Twitter Web Client   \n",
        "2015-03-21 05:18:42  NaN     NaN           Hootsuite   \n",
        "2015-03-21 05:18:42  NaN     NaN           Hootsuite   \n",
        "\n",
        "                                                                  text  \\\n",
        "2015-03-21 05:15:55  I liked a @YouTube video http://t.co/KR50U3hY3...   \n",
        "2015-03-21 05:16:08  RT @allhiphopcom: Jon Stewart Destroys Fox New...   \n",
        "2015-03-21 05:18:34  The longer Jon Stewart and Bill O'Reilly stay ...   \n",
        "2015-03-21 05:18:42  Addicting Info \ufffd Jon Stewart Buries Fox News F...   \n",
        "2015-03-21 05:18:42  Addicting Info \ufffd Jon Stewart Buries Fox News F...   \n",
        "\n",
        "                               user  userfriends  \n",
        "2015-03-21 05:15:55       HagaiElAd         1011  \n",
        "2015-03-21 05:16:08     Greatmuzic1          218  \n",
        "2015-03-21 05:18:34      frank_cell           28  \n",
        "2015-03-21 05:18:42   ThomasRWatson         2002  \n",
        "2015-03-21 05:18:42  ThomasRWatson1          490  "
       ]
      }
     ],
     "prompt_number": 218
    },
    {
     "cell_type": "code",
     "collapsed": false,
     "input": [
      "df.source.value_counts()[:15] "
     ],
     "language": "python",
     "metadata": {},
     "outputs": [
      {
       "metadata": {},
       "output_type": "pyout",
       "prompt_number": 219,
       "text": [
        "Twitter Web Client             269\n",
        "Twitter for iPhone             142\n",
        "Twitter for Android             83\n",
        "Facebook                        55\n",
        "Twitter for iPad                40\n",
        "dlvr.it                         29\n",
        "iOS                             21\n",
        "Twitter for Android Tablets     21\n",
        "IFTTT                           18\n",
        "Mobile Web                      15\n",
        "Hootsuite                       12\n",
        "SocialOomph                     11\n",
        "Linkis.com                      10\n",
        "TweetDeck                        8\n",
        "Google                           8\n",
        "dtype: int64"
       ]
      }
     ],
     "prompt_number": 219
    },
    {
     "cell_type": "heading",
     "level": 5,
     "metadata": {},
     "source": [
      "Visualization of Common Sources of Tweets"
     ]
    },
    {
     "cell_type": "code",
     "collapsed": false,
     "input": [
      "sources = df[\"source\"].value_counts()[:10][::-1]\n",
      "\n",
      "plt.barh(xrange(len(sources)), sources.values)\n",
      "plt.yticks(np.arange(len(sources)) + 0.4, sources.index)\n",
      "plt.show"
     ],
     "language": "python",
     "metadata": {},
     "outputs": [
      {
       "metadata": {},
       "output_type": "pyout",
       "prompt_number": 226,
       "text": [
        "<function matplotlib.pyplot.show>"
       ]
      },
      {
       "metadata": {},
       "output_type": "display_data",
       "png": "[encoded data removed]",
       "text": [
        "<matplotlib.figure.Figure at 0x1ad458710>"
       ]
      }
     ],
     "prompt_number": 226
    },
    {
     "cell_type": "heading",
     "level": 4,
     "metadata": {},
     "source": [
      "Filtering data for stopwords and unwanted items"
     ]
    },
    {
     "cell_type": "code",
     "collapsed": false,
     "input": [
      "import nltk\n",
      "from nltk.corpus import stopwords\n",
      "from nltk import FreqDist\n",
      "\n",
      "#Standard stop words including\n",
      "stop = stopwords.words('english')\n",
      "stop += [\"http\", \"https\", \"http://t.co/\",\"bitcoin\", \"rt\",\"@\",\"http://t.co/bio1qshhop\",\"via\"]\n",
      "text = df['text']\n",
      "\n",
      "tokens = []\n",
      "\n",
      "for txt in text.values: \n",
      "    tokens.extend([t.lower().strip(\":,.-\") for t in txt.split()])\n",
      "\n",
      "filtered_tokens = [w for w in tokens if not w in stop]"
     ],
     "language": "python",
     "metadata": {},
     "outputs": [],
     "prompt_number": 220
    },
    {
     "cell_type": "heading",
     "level": 4,
     "metadata": {},
     "source": [
      "Word Frequency"
     ]
    },
    {
     "cell_type": "code",
     "collapsed": false,
     "input": [
      "TweetFreqs.most_common(25)"
     ],
     "language": "python",
     "metadata": {},
     "outputs": [
      {
       "metadata": {},
       "output_type": "pyout",
       "prompt_number": 221,
       "text": [
        "[('jon', 846),\n",
        " ('stewart', 780),\n",
        " ('fox', 310),\n",
        " ('news', 255),\n",
        " ('ferguson', 112),\n",
        " ('benghazi', 112),\n",
        " ('', 95),\n",
        " ('food', 92),\n",
        " ('slams', 92),\n",
        " ('watch', 83),\n",
        " ('big', 81),\n",
        " (\"'rage-gasm'\", 78),\n",
        " ('menu', 75),\n",
        " ('hypocrisy', 74),\n",
        " ('artificial', 73),\n",
        " ('chemicals', 73),\n",
        " ('antibiotics', 72),\n",
        " ('\\xa5death', 71),\n",
        " ('daily', 70),\n",
        " ('apologize', 63),\n",
        " ('@alternet', 56),\n",
        " ('destroys', 55),\n",
        " ('shreds', 54),\n",
        " (\"stewart's\", 51),\n",
        " ('show', 48)]"
       ]
      }
     ],
     "prompt_number": 221
    },
    {
     "cell_type": "code",
     "collapsed": false,
     "input": [
      "TweetFreqs = nltk.FreqDist(filtered_tokens)\n",
      "TweetFreqs.plot(15, title='Top Frequency Content Terms')"
     ],
     "language": "python",
     "metadata": {},
     "outputs": [
      {
       "metadata": {},
       "output_type": "display_data",
       "png": "[encoded data removed]",
       "text": [
        "<matplotlib.figure.Figure at 0x14f615450>"
       ]
      }
     ],
     "prompt_number": 204
    },
    {
     "cell_type": "heading",
     "level": 4,
     "metadata": {},
     "source": [
      "Tweet Sentiment Analyzer"
     ]
    },
    {
     "cell_type": "code",
     "collapsed": false,
     "input": [
      "import random\n",
      "from nltk.corpus import movie_reviews\n",
      "from textblob.classifiers import NaiveBayesClassifier\n",
      "#random.seed(1)\n",
      " \n",
      "train = [\n",
      "('I liked a YouTube video   KR50U3hY3X The Daily Show 3/19/2015: Jon Stewart looks at Netanyahus win and sees America','pos'),\n",
      "('RT allhiphopcom: Jon Stewart Destroys Fox News For Hypocritical Ferguson Outrage!   Ct7Bcze1sv', 'pos'),\n",
      "('The longer Jon Stewart and Bill OReilly stay on air the more they sound the same, Angry Old . I smell a Grumpy Old Men remake. DailyShow','neg'),\n",
      "('Addicting Info Jon Stewart Buries Fox News For Hypocritically Refusing To Apologize For Benghazi Lies (VIDEO)','pos'),\n",
      "('Addicting Info Jon Stewart Buries Fox News For Hypocritically Refusing To Apologize For Benghazi Lies (VIDEO)   C0y832s1Ii','pos'),\n",
      "(\"RT AlterNet: WATCH: Jon Stewart Lets Fly in Brilliant 'Rage-gasm' About Fox's Relentless Hypocrisy   wHWQhb5rnr   7IzW\", 'pos')\n",
      "]\n",
      "\n",
      "test = [\n",
      "(\"Love this show going in with the facts Jon Stewart Destroys  Shockingly Terrible  Fox News For Hypocritical Fer...: \",'pos'),\n",
      "(\"Jon Stewart Chess Update   y1ZJanDUil boardgames\",\"neg\"),\n",
      "(\"RT AlterNet: WATCH: Jon Stewart Lets Fly in Brilliant 'Rage-gasm' About Fox's Relentless Hypocrisy   wHWQhb5rnr   7Iz\",\"pos\"),\n",
      "(\"RT kasinca: Jon Stewart Slams Tea Party Wannabe Benjamin Netanyahu Following Re-Election (Video)   iPvdOxgJm\",\"neg\")\n",
      "]\n",
      "\n",
      " \n",
      "cl = NaiveBayesClassifier(train)\n",
      " \n",
      "# Grab some movie review data\n",
      "reviews = [(list(movie_reviews.words(fileid)), category)\n",
      "           for category in movie_reviews.categories()\n",
      "           for fileid in movie_reviews.fileids(category)]\n",
      "\n",
      "random.shuffle(reviews)\n",
      "new_train, new_test = reviews[0:500], reviews[501:1000]\n",
      " \n",
      "# Update the classifier with the new training data\n",
      "cl.update(new_train)\n",
      " \n",
      "# Compute accuracy\n",
      "accuracy = cl.accuracy(test + new_test)\n",
      "print(\"Accuracy: {0}\".format(accuracy))\n",
      " \n",
      "# Show 5 most informative features\n",
      "cl.show_informative_features(10)"
     ],
     "language": "python",
     "metadata": {},
     "outputs": [
      {
       "output_type": "stream",
       "stream": "stdout",
       "text": [
        "Accuracy: 0.795228628231\n",
        "Most Informative Features\n",
        "       contains(justice) = True              pos : neg    =     11.1 : 1.0"
       ]
      },
      {
       "output_type": "stream",
       "stream": "stdout",
       "text": [
        "\n",
        "           contains(era) = True              pos : neg    =     11.1 : 1.0\n",
        "        contains(wasted) = True              neg : pos    =     10.9 : 1.0\n",
        "          contains(rule) = True              neg : pos    =     10.3 : 1.0\n",
        "    contains(friendship) = True              pos : neg    =      9.7 : 1.0\n",
        "        contains(poorly) = True              neg : pos    =      9.6 : 1.0\n",
        "     contains(fantastic) = True              pos : neg    =      9.5 : 1.0\n",
        "      contains(humanity) = True              pos : neg    =      8.4 : 1.0\n",
        "         contains(ideal) = True              pos : neg    =      8.4 : 1.0\n",
        "       contains(massive) = True              neg : pos    =      8.3 : 1.0\n"
       ]
      }
     ],
     "prompt_number": 228
    },
    {
     "cell_type": "heading",
     "level": 4,
     "metadata": {},
     "source": [
      "Next Steps"
     ]
    },
    {
     "cell_type": "markdown",
     "metadata": {},
     "source": [
      "- The Accuracy can be significantly improved by obtaining more data. Ideally 20,000-50,000 data points instead of the 878 data points that were collected for this project."
     ]
    }
   ],
   "metadata": {}
  }
 ]
}